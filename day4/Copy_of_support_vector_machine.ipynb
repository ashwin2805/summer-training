{
  "nbformat": 4,
  "nbformat_minor": 0,
  "metadata": {
    "colab": {
      "name": "Copy of support_vector_machine.ipynb",
      "provenance": [],
      "collapsed_sections": [],
      "machine_shape": "hm",
      "include_colab_link": true
    },
    "kernelspec": {
      "name": "python3",
      "display_name": "Python 3"
    }
  },
  "cells": [
    {
      "cell_type": "markdown",
      "metadata": {
        "id": "view-in-github",
        "colab_type": "text"
      },
      "source": [
        "<a href=\"https://colab.research.google.com/github/ashwin2805/summer-training/blob/main/day4/Copy_of_support_vector_machine.ipynb\" target=\"_parent\"><img src=\"https://colab.research.google.com/assets/colab-badge.svg\" alt=\"Open In Colab\"/></a>"
      ]
    },
    {
      "cell_type": "markdown",
      "metadata": {
        "id": "0MRC0e0KhQ0S"
      },
      "source": [
        "# Support Vector Machine (SVM)"
      ]
    },
    {
      "cell_type": "markdown",
      "metadata": {
        "id": "LWd1UlMnhT2s"
      },
      "source": [
        "## Importing the libraries"
      ]
    },
    {
      "cell_type": "code",
      "metadata": {
        "id": "YvGPUQaHhXfL"
      },
      "source": [
        "import numpy as np\n",
        "import matplotlib.pyplot as plt\n",
        "import pandas as pd"
      ],
      "execution_count": null,
      "outputs": []
    },
    {
      "cell_type": "markdown",
      "metadata": {
        "id": "K1VMqkGvhc3-"
      },
      "source": [
        "## Importing the dataset"
      ]
    },
    {
      "cell_type": "code",
      "metadata": {
        "id": "M52QDmyzhh9s"
      },
      "source": [
        "dataset = pd.read_csv('/Dropout_Academic Success - Sheet1.csv')\n",
        "X = dataset.iloc[:, :-1].values\n",
        "y = dataset.iloc[:, -1].values"
      ],
      "execution_count": null,
      "outputs": []
    },
    {
      "cell_type": "markdown",
      "metadata": {
        "id": "YvxIPVyMhmKp"
      },
      "source": [
        "## Splitting the dataset into the Training set and Test set"
      ]
    },
    {
      "cell_type": "code",
      "metadata": {
        "id": "AVzJWAXIhxoC"
      },
      "source": [
        "from sklearn.model_selection import train_test_split\n",
        "X_train, X_test, y_train, y_test = train_test_split(X, y, test_size = 0.25, random_state = 0)"
      ],
      "execution_count": null,
      "outputs": []
    },
    {
      "cell_type": "code",
      "metadata": {
        "id": "P3nS3-6r1i2B",
        "outputId": "04dceaf1-7e0b-4173-f297-bae44e415cf6",
        "colab": {
          "base_uri": "https://localhost:8080/"
        }
      },
      "source": [
        "print(X_train)"
      ],
      "execution_count": null,
      "outputs": [
        {
          "output_type": "stream",
          "name": "stdout",
          "text": [
            "[[ 1.   17.    4.   ... 10.8   1.4   1.74]\n",
            " [ 4.   39.    1.   ... 13.9  -0.3   0.79]\n",
            " [ 1.   18.    1.   ...  9.4  -0.8  -3.12]\n",
            " ...\n",
            " [ 1.    1.    3.   ... 12.4   0.5   1.79]\n",
            " [ 1.    1.    1.   ... 15.5   2.8  -4.06]\n",
            " [ 1.    1.    1.   ... 12.7   3.7  -1.7 ]]\n"
          ]
        }
      ]
    },
    {
      "cell_type": "code",
      "metadata": {
        "id": "8dpDLojm1mVG",
        "outputId": "17181cdb-545a-4381-8ca9-8fbdca0e7859",
        "colab": {
          "base_uri": "https://localhost:8080/"
        }
      },
      "source": [
        "print(y_train)"
      ],
      "execution_count": null,
      "outputs": [
        {
          "output_type": "stream",
          "name": "stdout",
          "text": [
            "['Dropout' 'Graduate' 'Enrolled' ... 'Graduate' 'Dropout' 'Enrolled']\n"
          ]
        }
      ]
    },
    {
      "cell_type": "code",
      "metadata": {
        "id": "qbb7i0DH1qui",
        "outputId": "fd143ec5-2194-4f0b-8463-ad70b0c0935b",
        "colab": {
          "base_uri": "https://localhost:8080/"
        }
      },
      "source": [
        "print(X_test)"
      ],
      "execution_count": null,
      "outputs": [
        {
          "output_type": "stream",
          "name": "stdout",
          "text": [
            "[[ 1.    1.    1.   ...  9.4  -0.8  -3.12]\n",
            " [ 1.    1.    1.   ... 10.8   1.4   1.74]\n",
            " [ 1.    1.    1.   ... 10.8   1.4   1.74]\n",
            " ...\n",
            " [ 4.   39.    1.   ... 15.5   2.8  -4.06]\n",
            " [ 1.    1.    1.   ... 16.2   0.3  -0.92]\n",
            " [ 1.   17.    4.   ... 13.9  -0.3   0.79]]\n"
          ]
        }
      ]
    },
    {
      "cell_type": "code",
      "metadata": {
        "id": "kj1hnFAR1s5w",
        "outputId": "a0312e98-3f3a-4cb4-a705-7a41070e453f",
        "colab": {
          "base_uri": "https://localhost:8080/"
        }
      },
      "source": [
        "print(y_test)"
      ],
      "execution_count": null,
      "outputs": [
        {
          "output_type": "stream",
          "name": "stdout",
          "text": [
            "['Graduate' 'Dropout' 'Graduate' ... 'Enrolled' 'Graduate' 'Graduate']\n"
          ]
        }
      ]
    },
    {
      "cell_type": "markdown",
      "metadata": {
        "id": "kW3c7UYih0hT"
      },
      "source": [
        "## Feature Scaling"
      ]
    },
    {
      "cell_type": "code",
      "metadata": {
        "id": "9fQlDPKCh8sc"
      },
      "source": [
        "from sklearn.preprocessing import StandardScaler\n",
        "sc = StandardScaler()\n",
        "X_train = sc.fit_transform(X_train)\n",
        "X_test = sc.transform(X_test)"
      ],
      "execution_count": null,
      "outputs": []
    },
    {
      "cell_type": "code",
      "metadata": {
        "id": "syrnD1Op2BSR",
        "outputId": "b1b6d082-5302-483b-9be6-6f1b52b4f777",
        "colab": {
          "base_uri": "https://localhost:8080/"
        }
      },
      "source": [
        "print(X_train)"
      ],
      "execution_count": null,
      "outputs": [
        {
          "output_type": "stream",
          "name": "stdout",
          "text": [
            "[[-0.29752208 -0.08824613  1.74301844 ... -0.29337163  0.11812785\n",
            "   0.76262697]\n",
            " [ 4.77359915  1.16693991 -0.55865383 ...  0.87274574 -1.11077654\n",
            "   0.34447277]\n",
            " [-0.29752208 -0.03119222 -0.55865383 ... -0.82000529 -1.472219\n",
            "  -1.37656186]\n",
            " ...\n",
            " [-0.29752208 -1.00110871  0.97579435 ...  0.3084954  -0.53246859\n",
            "   0.78463508]\n",
            " [-0.29752208 -1.00110871 -0.55865383 ...  1.47461278  1.13016676\n",
            "  -1.79031443]\n",
            " [-0.29752208 -1.00110871 -0.55865383 ...  0.42134547  1.7807632\n",
            "  -0.75153138]]\n"
          ]
        }
      ]
    },
    {
      "cell_type": "code",
      "metadata": {
        "id": "JUd6iBRp2C3L",
        "outputId": "15ef50b1-c9f6-4452-bc2f-b8e27458e3f1",
        "colab": {
          "base_uri": "https://localhost:8080/"
        }
      },
      "source": [
        "print(X_test)"
      ],
      "execution_count": null,
      "outputs": [
        {
          "output_type": "stream",
          "name": "stdout",
          "text": [
            "[[-0.29752208 -1.00110871 -0.55865383 ... -0.82000529 -1.472219\n",
            "  -1.37656186]\n",
            " [-0.29752208 -1.00110871 -0.55865383 ... -0.29337163  0.11812785\n",
            "   0.76262697]\n",
            " [-0.29752208 -1.00110871 -0.55865383 ... -0.29337163  0.11812785\n",
            "   0.76262697]\n",
            " ...\n",
            " [ 4.77359915  1.16693991 -0.55865383 ...  1.47461278  1.13016676\n",
            "  -1.79031443]\n",
            " [-0.29752208 -1.00110871 -0.55865383 ...  1.7379296  -0.67704558\n",
            "  -0.40820477]\n",
            " [-0.29752208 -0.08824613  1.74301844 ...  0.87274574 -1.11077654\n",
            "   0.34447277]]\n"
          ]
        }
      ]
    },
    {
      "cell_type": "markdown",
      "metadata": {
        "id": "bb6jCOCQiAmP"
      },
      "source": [
        "## Training the SVM model on the Training set"
      ]
    },
    {
      "cell_type": "code",
      "metadata": {
        "id": "e0pFVAmciHQs",
        "colab": {
          "base_uri": "https://localhost:8080/"
        },
        "outputId": "82053245-957a-4b0e-b75f-05f2db3c884f"
      },
      "source": [
        "from sklearn.svm import SVC\n",
        "classifier = SVC(kernel = 'linear', random_state = 0)\n",
        "classifier.fit(X_train, y_train)"
      ],
      "execution_count": null,
      "outputs": [
        {
          "output_type": "execute_result",
          "data": {
            "text/plain": [
              "SVC(kernel='linear', random_state=0)"
            ]
          },
          "metadata": {},
          "execution_count": 12
        }
      ]
    },
    {
      "cell_type": "markdown",
      "metadata": {
        "id": "yyxW5b395mR2"
      },
      "source": [
        "## Predicting a new result"
      ]
    },
    {
      "cell_type": "code",
      "metadata": {
        "id": "f8YOXsQy58rP",
        "outputId": "fc4b36f6-3602-4676-f85d-25ccc6ce33de",
        "colab": {
          "base_uri": "https://localhost:8080/"
        }
      },
      "source": [
        "print(classifier.predict(sc.transform(X_test)))"
      ],
      "execution_count": null,
      "outputs": [
        {
          "output_type": "stream",
          "name": "stdout",
          "text": [
            "['Graduate' 'Dropout' 'Graduate' ... 'Enrolled' 'Graduate' 'Graduate']\n"
          ]
        }
      ]
    },
    {
      "cell_type": "markdown",
      "metadata": {
        "id": "vKYVQH-l5NpE"
      },
      "source": [
        "## Predicting the Test set results"
      ]
    },
    {
      "cell_type": "code",
      "metadata": {
        "id": "p6VMTb2O4hwM",
        "outputId": "a695bf09-d5af-4131-a5f9-18ea62449b89",
        "colab": {
          "base_uri": "https://localhost:8080/"
        }
      },
      "source": [
        "y_pred = classifier.predict(X_test)\n",
        "print(np.concatenate((y_pred.reshape(len(y_pred),1), y_test.reshape(len(y_test),1)),1))"
      ],
      "execution_count": null,
      "outputs": [
        {
          "output_type": "stream",
          "name": "stdout",
          "text": [
            "[['Graduate' 'Graduate']\n",
            " ['Dropout' 'Dropout']\n",
            " ['Graduate' 'Graduate']\n",
            " ...\n",
            " ['Enrolled' 'Enrolled']\n",
            " ['Graduate' 'Graduate']\n",
            " ['Graduate' 'Graduate']]\n"
          ]
        }
      ]
    },
    {
      "cell_type": "markdown",
      "metadata": {
        "id": "h4Hwj34ziWQW"
      },
      "source": [
        "## Making the Confusion Matrix"
      ]
    },
    {
      "cell_type": "code",
      "metadata": {
        "id": "D6bpZwUiiXic",
        "outputId": "1457485e-94a3-478a-9789-ccfae0e46643",
        "colab": {
          "base_uri": "https://localhost:8080/"
        }
      },
      "source": [
        "from sklearn.metrics import confusion_matrix, accuracy_score\n",
        "cm = confusion_matrix(y_test, y_pred)\n",
        "print(cm)\n",
        "accuracy_score(y_test, y_pred)"
      ],
      "execution_count": null,
      "outputs": [
        {
          "output_type": "stream",
          "name": "stdout",
          "text": [
            "[[253  50  50]\n",
            " [ 37  73  83]\n",
            " [ 14  17 529]]\n"
          ]
        },
        {
          "output_type": "execute_result",
          "data": {
            "text/plain": [
              "0.7730560578661845"
            ]
          },
          "metadata": {},
          "execution_count": 16
        }
      ]
    }
  ]
}